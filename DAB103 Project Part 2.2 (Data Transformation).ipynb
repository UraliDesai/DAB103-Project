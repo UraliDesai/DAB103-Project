{
 "cells": [
  {
   "cell_type": "code",
   "execution_count": 1,
   "id": "21117eb2",
   "metadata": {},
   "outputs": [],
   "source": [
    "import numpy as np # linear algebra\n",
    "import pandas as pd # data processing, CSV file\n",
    "import matplotlib.pyplot as plt\n",
    "%matplotlib inline\n",
    "import seaborn as sns"
   ]
  },
  {
   "cell_type": "markdown",
   "id": "43917490",
   "metadata": {},
   "source": [
    "Import numpy and pandas, and using OS tell the system the path to the cleaned dataset so it can easily use it. "
   ]
  },
  {
   "cell_type": "code",
   "execution_count": 3,
   "id": "2816adca",
   "metadata": {},
   "outputs": [
    {
     "name": "stdout",
     "output_type": "stream",
     "text": [
      "E:\\SEM 1\\Data Analytics Tools\\Project\\Cleaned\\City_day.csv\n",
      "E:\\SEM 1\\Data Analytics Tools\\Project\\Cleaned\\City_hour.csv\n",
      "E:\\SEM 1\\Data Analytics Tools\\Project\\Cleaned\\stations.csv\n",
      "E:\\SEM 1\\Data Analytics Tools\\Project\\Cleaned\\station_day.csv\n",
      "E:\\SEM 1\\Data Analytics Tools\\Project\\Cleaned\\station_hour.csv\n"
     ]
    }
   ],
   "source": [
    "import os\n",
    "for dirname, _, filenames in os.walk('E:\\SEM 1\\Data Analytics Tools\\Project\\Cleaned'):\n",
    "    for filename in filenames:\n",
    "        print(os.path.join(dirname, filename))"
   ]
  },
  {
   "cell_type": "code",
   "execution_count": 4,
   "id": "e41bf2b4",
   "metadata": {},
   "outputs": [],
   "source": [
    "#read all cleaned CSV file and store it new variable\n",
    "city_day     = pd.read_csv(\"E:\\SEM 1\\Data Analytics Tools\\Project\\Cleaned\\city_day.csv\")\n",
    "city_hour    = pd.read_csv(\"E:\\SEM 1\\Data Analytics Tools\\Project\\Cleaned\\city_hour.csv\")\n",
    "station_day  = pd.read_csv(\"E:\\SEM 1\\Data Analytics Tools\\Project\\Cleaned\\station_day.csv\")\n",
    "station_hour = pd.read_csv(\"E:\\SEM 1\\Data Analytics Tools\\Project\\Cleaned\\station_hour.csv\")\n",
    "stations     = pd.read_csv(\"E:\\SEM 1\\Data Analytics Tools\\Project\\Cleaned\\stations.csv\")"
   ]
  },
  {
   "cell_type": "markdown",
   "id": "4baf7ae6",
   "metadata": {},
   "source": [
    "# Data Transfromation"
   ]
  },
  {
   "cell_type": "code",
   "execution_count": 5,
   "id": "ccd346f7",
   "metadata": {},
   "outputs": [],
   "source": [
    "#merge all five csv file into new dataframe using concat function\n",
    "data=pd.concat([city_day,city_hour ,station_day,station_hour,stations])"
   ]
  },
  {
   "cell_type": "code",
   "execution_count": 6,
   "id": "9e84fb4b",
   "metadata": {},
   "outputs": [
    {
     "data": {
      "text/html": [
       "<div>\n",
       "<style scoped>\n",
       "    .dataframe tbody tr th:only-of-type {\n",
       "        vertical-align: middle;\n",
       "    }\n",
       "\n",
       "    .dataframe tbody tr th {\n",
       "        vertical-align: top;\n",
       "    }\n",
       "\n",
       "    .dataframe thead th {\n",
       "        text-align: right;\n",
       "    }\n",
       "</style>\n",
       "<table border=\"1\" class=\"dataframe\">\n",
       "  <thead>\n",
       "    <tr style=\"text-align: right;\">\n",
       "      <th></th>\n",
       "      <th>City</th>\n",
       "      <th>Date</th>\n",
       "      <th>PM2.5</th>\n",
       "      <th>PM10</th>\n",
       "      <th>NO</th>\n",
       "      <th>NO2</th>\n",
       "      <th>NOx</th>\n",
       "      <th>NH3</th>\n",
       "      <th>CO</th>\n",
       "      <th>SO2</th>\n",
       "      <th>O3</th>\n",
       "      <th>Benzene</th>\n",
       "      <th>Toluene</th>\n",
       "      <th>Xylene</th>\n",
       "      <th>AQI</th>\n",
       "      <th>AQI_Bucket</th>\n",
       "      <th>StationId</th>\n",
       "      <th>StationName</th>\n",
       "      <th>State</th>\n",
       "      <th>Status</th>\n",
       "    </tr>\n",
       "  </thead>\n",
       "  <tbody>\n",
       "    <tr>\n",
       "      <th>0</th>\n",
       "      <td>Amaravati</td>\n",
       "      <td>2017-11-25</td>\n",
       "      <td>81.40</td>\n",
       "      <td>124.50</td>\n",
       "      <td>1.44</td>\n",
       "      <td>20.50</td>\n",
       "      <td>12.08</td>\n",
       "      <td>10.72</td>\n",
       "      <td>0.12</td>\n",
       "      <td>15.24</td>\n",
       "      <td>127.09</td>\n",
       "      <td>0.20</td>\n",
       "      <td>6.50</td>\n",
       "      <td>0.06</td>\n",
       "      <td>184.0</td>\n",
       "      <td>Moderate</td>\n",
       "      <td>NaN</td>\n",
       "      <td>NaN</td>\n",
       "      <td>NaN</td>\n",
       "      <td>NaN</td>\n",
       "    </tr>\n",
       "    <tr>\n",
       "      <th>1</th>\n",
       "      <td>Amaravati</td>\n",
       "      <td>2017-11-26</td>\n",
       "      <td>78.32</td>\n",
       "      <td>129.06</td>\n",
       "      <td>1.26</td>\n",
       "      <td>26.00</td>\n",
       "      <td>14.85</td>\n",
       "      <td>10.28</td>\n",
       "      <td>0.14</td>\n",
       "      <td>26.96</td>\n",
       "      <td>117.44</td>\n",
       "      <td>0.22</td>\n",
       "      <td>7.95</td>\n",
       "      <td>0.08</td>\n",
       "      <td>197.0</td>\n",
       "      <td>Moderate</td>\n",
       "      <td>NaN</td>\n",
       "      <td>NaN</td>\n",
       "      <td>NaN</td>\n",
       "      <td>NaN</td>\n",
       "    </tr>\n",
       "    <tr>\n",
       "      <th>2</th>\n",
       "      <td>Amaravati</td>\n",
       "      <td>2017-11-27</td>\n",
       "      <td>88.76</td>\n",
       "      <td>135.32</td>\n",
       "      <td>6.60</td>\n",
       "      <td>30.85</td>\n",
       "      <td>21.77</td>\n",
       "      <td>12.91</td>\n",
       "      <td>0.11</td>\n",
       "      <td>33.59</td>\n",
       "      <td>111.81</td>\n",
       "      <td>0.29</td>\n",
       "      <td>7.63</td>\n",
       "      <td>0.12</td>\n",
       "      <td>198.0</td>\n",
       "      <td>Moderate</td>\n",
       "      <td>NaN</td>\n",
       "      <td>NaN</td>\n",
       "      <td>NaN</td>\n",
       "      <td>NaN</td>\n",
       "    </tr>\n",
       "    <tr>\n",
       "      <th>3</th>\n",
       "      <td>Amaravati</td>\n",
       "      <td>2017-11-28</td>\n",
       "      <td>64.18</td>\n",
       "      <td>104.09</td>\n",
       "      <td>2.56</td>\n",
       "      <td>28.07</td>\n",
       "      <td>17.01</td>\n",
       "      <td>11.42</td>\n",
       "      <td>0.09</td>\n",
       "      <td>19.00</td>\n",
       "      <td>138.18</td>\n",
       "      <td>0.17</td>\n",
       "      <td>5.02</td>\n",
       "      <td>0.07</td>\n",
       "      <td>188.0</td>\n",
       "      <td>Moderate</td>\n",
       "      <td>NaN</td>\n",
       "      <td>NaN</td>\n",
       "      <td>NaN</td>\n",
       "      <td>NaN</td>\n",
       "    </tr>\n",
       "    <tr>\n",
       "      <th>4</th>\n",
       "      <td>Amaravati</td>\n",
       "      <td>2017-11-29</td>\n",
       "      <td>72.47</td>\n",
       "      <td>114.84</td>\n",
       "      <td>5.23</td>\n",
       "      <td>23.20</td>\n",
       "      <td>16.59</td>\n",
       "      <td>12.25</td>\n",
       "      <td>0.16</td>\n",
       "      <td>10.55</td>\n",
       "      <td>109.74</td>\n",
       "      <td>0.21</td>\n",
       "      <td>4.71</td>\n",
       "      <td>0.08</td>\n",
       "      <td>173.0</td>\n",
       "      <td>Moderate</td>\n",
       "      <td>NaN</td>\n",
       "      <td>NaN</td>\n",
       "      <td>NaN</td>\n",
       "      <td>NaN</td>\n",
       "    </tr>\n",
       "  </tbody>\n",
       "</table>\n",
       "</div>"
      ],
      "text/plain": [
       "        City        Date  PM2.5    PM10    NO    NO2    NOx    NH3    CO  \\\n",
       "0  Amaravati  2017-11-25  81.40  124.50  1.44  20.50  12.08  10.72  0.12   \n",
       "1  Amaravati  2017-11-26  78.32  129.06  1.26  26.00  14.85  10.28  0.14   \n",
       "2  Amaravati  2017-11-27  88.76  135.32  6.60  30.85  21.77  12.91  0.11   \n",
       "3  Amaravati  2017-11-28  64.18  104.09  2.56  28.07  17.01  11.42  0.09   \n",
       "4  Amaravati  2017-11-29  72.47  114.84  5.23  23.20  16.59  12.25  0.16   \n",
       "\n",
       "     SO2      O3  Benzene  Toluene  Xylene    AQI AQI_Bucket StationId  \\\n",
       "0  15.24  127.09     0.20     6.50    0.06  184.0   Moderate       NaN   \n",
       "1  26.96  117.44     0.22     7.95    0.08  197.0   Moderate       NaN   \n",
       "2  33.59  111.81     0.29     7.63    0.12  198.0   Moderate       NaN   \n",
       "3  19.00  138.18     0.17     5.02    0.07  188.0   Moderate       NaN   \n",
       "4  10.55  109.74     0.21     4.71    0.08  173.0   Moderate       NaN   \n",
       "\n",
       "  StationName State Status  \n",
       "0         NaN   NaN    NaN  \n",
       "1         NaN   NaN    NaN  \n",
       "2         NaN   NaN    NaN  \n",
       "3         NaN   NaN    NaN  \n",
       "4         NaN   NaN    NaN  "
      ]
     },
     "execution_count": 6,
     "metadata": {},
     "output_type": "execute_result"
    }
   ],
   "source": [
    "data.head()"
   ]
  },
  {
   "cell_type": "code",
   "execution_count": 7,
   "id": "423f1edf",
   "metadata": {},
   "outputs": [
    {
     "data": {
      "text/plain": [
       "City           214007\n",
       "Date              133\n",
       "PM2.5             133\n",
       "PM10              133\n",
       "NO                133\n",
       "NO2               133\n",
       "NOx               133\n",
       "NH3               133\n",
       "CO                133\n",
       "SO2               133\n",
       "O3                133\n",
       "Benzene           133\n",
       "Toluene           133\n",
       "Xylene            133\n",
       "AQI               133\n",
       "AQI_Bucket        133\n",
       "StationId      135513\n",
       "StationName    349520\n",
       "State          349520\n",
       "Status         349520\n",
       "dtype: int64"
      ]
     },
     "execution_count": 7,
     "metadata": {},
     "output_type": "execute_result"
    }
   ],
   "source": [
    "data.isnull().sum()"
   ]
  },
  {
   "cell_type": "code",
   "execution_count": 8,
   "id": "23142ed7",
   "metadata": {},
   "outputs": [
    {
     "data": {
      "text/plain": [
       "(349653, 20)"
      ]
     },
     "execution_count": 8,
     "metadata": {},
     "output_type": "execute_result"
    }
   ],
   "source": [
    "data.shape"
   ]
  },
  {
   "cell_type": "markdown",
   "id": "d8b299dd",
   "metadata": {},
   "source": [
    "Because each file has a unique variable, the following variables have no value after merging all data frames, so we dropped that column using the drop function. "
   ]
  },
  {
   "cell_type": "code",
   "execution_count": 9,
   "id": "d6c6419e",
   "metadata": {},
   "outputs": [],
   "source": [
    "#below varaibles have missing value after mergeing all dataframe so we drop that column\n",
    "data.drop(['StationId','StationName', 'State','Status'], axis=1, inplace=True)"
   ]
  },
  {
   "cell_type": "code",
   "execution_count": 10,
   "id": "84e3be86",
   "metadata": {},
   "outputs": [
    {
     "data": {
      "text/plain": [
       "(349653, 16)"
      ]
     },
     "execution_count": 10,
     "metadata": {},
     "output_type": "execute_result"
    }
   ],
   "source": [
    "data.shape"
   ]
  },
  {
   "cell_type": "code",
   "execution_count": 11,
   "id": "f652a74f",
   "metadata": {},
   "outputs": [],
   "source": [
    "#remove missing value from final dataset\n",
    "final_clean=data.dropna()"
   ]
  },
  {
   "cell_type": "code",
   "execution_count": 12,
   "id": "c43decf9",
   "metadata": {},
   "outputs": [
    {
     "data": {
      "text/plain": [
       "(135513, 16)"
      ]
     },
     "execution_count": 12,
     "metadata": {},
     "output_type": "execute_result"
    }
   ],
   "source": [
    "final_clean.shape"
   ]
  },
  {
   "cell_type": "code",
   "execution_count": 13,
   "id": "3839467f",
   "metadata": {},
   "outputs": [
    {
     "name": "stderr",
     "output_type": "stream",
     "text": [
      "C:\\Users\\Dell\\AppData\\Local\\Temp/ipykernel_13060/3981957264.py:2: SettingWithCopyWarning: \n",
      "A value is trying to be set on a copy of a slice from a DataFrame.\n",
      "Try using .loc[row_indexer,col_indexer] = value instead\n",
      "\n",
      "See the caveats in the documentation: https://pandas.pydata.org/pandas-docs/stable/user_guide/indexing.html#returning-a-view-versus-a-copy\n",
      "  final_clean[\"Date\"] = pd.to_datetime(final_clean[\"Date\"])\n"
     ]
    }
   ],
   "source": [
    "#change datatype of date variable\n",
    "final_clean[\"Date\"] = pd.to_datetime(final_clean[\"Date\"])"
   ]
  },
  {
   "cell_type": "code",
   "execution_count": 14,
   "id": "7facdb21",
   "metadata": {},
   "outputs": [],
   "source": [
    "#create and store that final CSV file of dataset on the local system using to_CSV function.\n",
    "final_clean.to_csv(\"E:\\SEM 1\\Data Analytics Tools\\Project\\Cleaned\\Final_dataset.csv\",index=False)"
   ]
  },
  {
   "cell_type": "code",
   "execution_count": 15,
   "id": "c4a734aa",
   "metadata": {},
   "outputs": [
    {
     "name": "stdout",
     "output_type": "stream",
     "text": [
      "<class 'pandas.core.frame.DataFrame'>\n",
      "Int64Index: 135513 entries, 0 to 129276\n",
      "Data columns (total 16 columns):\n",
      " #   Column      Non-Null Count   Dtype         \n",
      "---  ------      --------------   -----         \n",
      " 0   City        135513 non-null  object        \n",
      " 1   Date        135513 non-null  datetime64[ns]\n",
      " 2   PM2.5       135513 non-null  float64       \n",
      " 3   PM10        135513 non-null  float64       \n",
      " 4   NO          135513 non-null  float64       \n",
      " 5   NO2         135513 non-null  float64       \n",
      " 6   NOx         135513 non-null  float64       \n",
      " 7   NH3         135513 non-null  float64       \n",
      " 8   CO          135513 non-null  float64       \n",
      " 9   SO2         135513 non-null  float64       \n",
      " 10  O3          135513 non-null  float64       \n",
      " 11  Benzene     135513 non-null  float64       \n",
      " 12  Toluene     135513 non-null  float64       \n",
      " 13  Xylene      135513 non-null  float64       \n",
      " 14  AQI         135513 non-null  float64       \n",
      " 15  AQI_Bucket  135513 non-null  object        \n",
      "dtypes: datetime64[ns](1), float64(13), object(2)\n",
      "memory usage: 17.6+ MB\n"
     ]
    }
   ],
   "source": [
    "final_clean.info()"
   ]
  },
  {
   "cell_type": "code",
   "execution_count": null,
   "id": "18cd7a06",
   "metadata": {},
   "outputs": [],
   "source": []
  }
 ],
 "metadata": {
  "kernelspec": {
   "display_name": "Python 3 (ipykernel)",
   "language": "python",
   "name": "python3"
  },
  "language_info": {
   "codemirror_mode": {
    "name": "ipython",
    "version": 3
   },
   "file_extension": ".py",
   "mimetype": "text/x-python",
   "name": "python",
   "nbconvert_exporter": "python",
   "pygments_lexer": "ipython3",
   "version": "3.9.7"
  }
 },
 "nbformat": 4,
 "nbformat_minor": 5
}
